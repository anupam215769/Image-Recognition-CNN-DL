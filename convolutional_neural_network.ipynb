{
 "cells": [
  {
   "cell_type": "markdown",
   "metadata": {
    "colab_type": "text",
    "id": "3DR-eO17geWu"
   },
   "source": [
    "# Convolutional Neural Network"
   ]
  },
  {
   "cell_type": "markdown",
   "metadata": {
    "colab_type": "text",
    "id": "EMefrVPCg-60"
   },
   "source": [
    "### Importing the libraries"
   ]
  },
  {
   "cell_type": "code",
   "execution_count": 1,
   "metadata": {
    "colab": {},
    "colab_type": "code",
    "id": "sCV30xyVhFbE"
   },
   "outputs": [],
   "source": [
    "import tensorflow as tf\n",
    "from keras.preprocessing.image import ImageDataGenerator"
   ]
  },
  {
   "cell_type": "markdown",
   "metadata": {
    "colab_type": "text",
    "id": "oxQxCBWyoGPE"
   },
   "source": [
    "## Part 1 - Data Preprocessing"
   ]
  },
  {
   "cell_type": "markdown",
   "metadata": {
    "colab_type": "text",
    "id": "MvE-heJNo3GG"
   },
   "source": [
    "### Preprocessing the Training set"
   ]
  },
  {
   "cell_type": "code",
   "execution_count": 2,
   "metadata": {
    "colab": {},
    "colab_type": "code",
    "id": "0koUcJMJpEBD"
   },
   "outputs": [
    {
     "name": "stdout",
     "output_type": "stream",
     "text": [
      "Found 8000 images belonging to 2 classes.\n"
     ]
    }
   ],
   "source": [
    "# applying image transformations to avoid overfitting\n",
    "# reference https://keras.io/api/\n",
    "train_datagen = ImageDataGenerator(rescale = 1./255,\n",
    "                                   shear_range = 0.2,\n",
    "                                   zoom_range = 0.2,\n",
    "                                   horizontal_flip = True)\n",
    "training_set = train_datagen.flow_from_directory('dataset/training_set',\n",
    "                                                 target_size = (64, 64),\n",
    "                                                 batch_size = 32,\n",
    "                                                 class_mode = 'binary')"
   ]
  },
  {
   "cell_type": "markdown",
   "metadata": {
    "colab_type": "text",
    "id": "mrCMmGw9pHys"
   },
   "source": [
    "### Preprocessing the Test set"
   ]
  },
  {
   "cell_type": "code",
   "execution_count": 3,
   "metadata": {
    "colab": {},
    "colab_type": "code",
    "id": "SH4WzfOhpKc3"
   },
   "outputs": [
    {
     "name": "stdout",
     "output_type": "stream",
     "text": [
      "Found 2000 images belonging to 2 classes.\n"
     ]
    }
   ],
   "source": [
    "# applying image transformations to avoid overfitting\n",
    "# reference https://keras.io/api/\n",
    "test_datagen = ImageDataGenerator(rescale = 1./255)\n",
    "test_set = test_datagen.flow_from_directory('dataset/test_set',\n",
    "                                            target_size = (64, 64),\n",
    "                                            batch_size = 32,\n",
    "                                            class_mode = 'binary')"
   ]
  },
  {
   "cell_type": "markdown",
   "metadata": {
    "colab_type": "text",
    "id": "af8O4l90gk7B"
   },
   "source": [
    "## Part 2 - Building the CNN"
   ]
  },
  {
   "cell_type": "markdown",
   "metadata": {
    "colab_type": "text",
    "id": "ces1gXY2lmoX"
   },
   "source": [
    "### Initialising the CNN"
   ]
  },
  {
   "cell_type": "code",
   "execution_count": 5,
   "metadata": {
    "colab": {},
    "colab_type": "code",
    "id": "SAUt4UMPlhLS"
   },
   "outputs": [],
   "source": [
    "cnn = tf.keras.models.Sequential()"
   ]
  },
  {
   "cell_type": "markdown",
   "metadata": {
    "colab_type": "text",
    "id": "u5YJj_XMl5LF"
   },
   "source": [
    "### Step 1 - Convolution"
   ]
  },
  {
   "cell_type": "code",
   "execution_count": 6,
   "metadata": {
    "colab": {},
    "colab_type": "code",
    "id": "XPzPrMckl-hV"
   },
   "outputs": [],
   "source": [
    "# kernel_size = 3 for 3x3 feature detector matrix\n",
    "# input_shape having 3 values because of color images\n",
    "cnn.add(tf.keras.layers.Conv2D(filters=32, kernel_size=3, activation='relu', input_shape=[64, 64, 3]))"
   ]
  },
  {
   "cell_type": "markdown",
   "metadata": {
    "colab_type": "text",
    "id": "tf87FpvxmNOJ"
   },
   "source": [
    "### Step 2 - Pooling"
   ]
  },
  {
   "cell_type": "code",
   "execution_count": 7,
   "metadata": {
    "colab": {},
    "colab_type": "code",
    "id": "ncpqPl69mOac"
   },
   "outputs": [],
   "source": [
    "cnn.add(tf.keras.layers.MaxPool2D(pool_size=2, strides=2))"
   ]
  },
  {
   "cell_type": "markdown",
   "metadata": {
    "colab_type": "text",
    "id": "xaTOgD8rm4mU"
   },
   "source": [
    "### Adding a second convolutional layer"
   ]
  },
  {
   "cell_type": "code",
   "execution_count": 8,
   "metadata": {
    "colab": {},
    "colab_type": "code",
    "id": "i_-FZjn_m8gk"
   },
   "outputs": [],
   "source": [
    "cnn.add(tf.keras.layers.Conv2D(filters=32, kernel_size=3, activation='relu'))\n",
    "cnn.add(tf.keras.layers.MaxPool2D(pool_size=2, strides=2))"
   ]
  },
  {
   "cell_type": "markdown",
   "metadata": {
    "colab_type": "text",
    "id": "tmiEuvTunKfk"
   },
   "source": [
    "### Step 3 - Flattening"
   ]
  },
  {
   "cell_type": "code",
   "execution_count": 9,
   "metadata": {
    "colab": {},
    "colab_type": "code",
    "id": "6AZeOGCvnNZn"
   },
   "outputs": [],
   "source": [
    "cnn.add(tf.keras.layers.Flatten())"
   ]
  },
  {
   "cell_type": "markdown",
   "metadata": {
    "colab_type": "text",
    "id": "dAoSECOm203v"
   },
   "source": [
    "### Step 4 - Full Connection"
   ]
  },
  {
   "cell_type": "code",
   "execution_count": 10,
   "metadata": {
    "colab": {},
    "colab_type": "code",
    "id": "8GtmUlLd26Nq"
   },
   "outputs": [],
   "source": [
    "cnn.add(tf.keras.layers.Dense(units=128, activation='relu'))"
   ]
  },
  {
   "cell_type": "markdown",
   "metadata": {
    "colab_type": "text",
    "id": "yTldFvbX28Na"
   },
   "source": [
    "### Step 5 - Output Layer"
   ]
  },
  {
   "cell_type": "code",
   "execution_count": 11,
   "metadata": {
    "colab": {},
    "colab_type": "code",
    "id": "1p_Zj1Mc3Ko_"
   },
   "outputs": [],
   "source": [
    "cnn.add(tf.keras.layers.Dense(units=1, activation='sigmoid'))"
   ]
  },
  {
   "cell_type": "markdown",
   "metadata": {
    "colab_type": "text",
    "id": "D6XkI90snSDl"
   },
   "source": [
    "## Part 3 - Training the CNN"
   ]
  },
  {
   "cell_type": "markdown",
   "metadata": {
    "colab_type": "text",
    "id": "vfrFQACEnc6i"
   },
   "source": [
    "### Compiling the CNN"
   ]
  },
  {
   "cell_type": "code",
   "execution_count": 12,
   "metadata": {
    "colab": {},
    "colab_type": "code",
    "id": "NALksrNQpUlJ"
   },
   "outputs": [],
   "source": [
    "cnn.compile(optimizer = 'adam', loss = 'binary_crossentropy', metrics = ['accuracy'])"
   ]
  },
  {
   "cell_type": "markdown",
   "metadata": {
    "colab_type": "text",
    "id": "ehS-v3MIpX2h"
   },
   "source": [
    "### Training the CNN on the Training set and evaluating it on the Test set"
   ]
  },
  {
   "cell_type": "code",
   "execution_count": 13,
   "metadata": {
    "colab": {},
    "colab_type": "code",
    "id": "XUj1W4PJptta"
   },
   "outputs": [
    {
     "name": "stdout",
     "output_type": "stream",
     "text": [
      "Epoch 1/25\n",
      "250/250 [==============================] - 87s 346ms/step - loss: 0.6683 - accuracy: 0.5925 - val_loss: 0.6052 - val_accuracy: 0.6960\n",
      "Epoch 2/25\n",
      "250/250 [==============================] - 29s 117ms/step - loss: 0.5934 - accuracy: 0.6825 - val_loss: 0.5899 - val_accuracy: 0.6915\n",
      "Epoch 3/25\n",
      "250/250 [==============================] - 26s 106ms/step - loss: 0.5569 - accuracy: 0.7146 - val_loss: 0.5454 - val_accuracy: 0.7360\n",
      "Epoch 4/25\n",
      "250/250 [==============================] - 26s 104ms/step - loss: 0.5281 - accuracy: 0.7351 - val_loss: 0.5634 - val_accuracy: 0.7175\n",
      "Epoch 5/25\n",
      "250/250 [==============================] - 28s 112ms/step - loss: 0.5048 - accuracy: 0.7526 - val_loss: 0.4841 - val_accuracy: 0.7715\n",
      "Epoch 6/25\n",
      "250/250 [==============================] - 27s 107ms/step - loss: 0.4933 - accuracy: 0.7606 - val_loss: 0.4843 - val_accuracy: 0.7800\n",
      "Epoch 7/25\n",
      "250/250 [==============================] - 26s 103ms/step - loss: 0.4686 - accuracy: 0.7769 - val_loss: 0.4886 - val_accuracy: 0.7730\n",
      "Epoch 8/25\n",
      "250/250 [==============================] - 26s 102ms/step - loss: 0.4604 - accuracy: 0.7821 - val_loss: 0.4619 - val_accuracy: 0.7910\n",
      "Epoch 9/25\n",
      "250/250 [==============================] - 26s 102ms/step - loss: 0.4416 - accuracy: 0.7939 - val_loss: 0.4548 - val_accuracy: 0.7970\n",
      "Epoch 10/25\n",
      "250/250 [==============================] - 26s 105ms/step - loss: 0.4336 - accuracy: 0.7983 - val_loss: 0.4511 - val_accuracy: 0.7945\n",
      "Epoch 11/25\n",
      "250/250 [==============================] - 26s 103ms/step - loss: 0.4141 - accuracy: 0.8081 - val_loss: 0.4668 - val_accuracy: 0.7920\n",
      "Epoch 12/25\n",
      "250/250 [==============================] - 26s 104ms/step - loss: 0.4084 - accuracy: 0.8110 - val_loss: 0.4552 - val_accuracy: 0.8015\n",
      "Epoch 13/25\n",
      "250/250 [==============================] - 26s 102ms/step - loss: 0.4025 - accuracy: 0.8076 - val_loss: 0.4459 - val_accuracy: 0.8055\n",
      "Epoch 14/25\n",
      "250/250 [==============================] - 26s 103ms/step - loss: 0.3839 - accuracy: 0.8295 - val_loss: 0.4261 - val_accuracy: 0.8165\n",
      "Epoch 15/25\n",
      "250/250 [==============================] - 26s 102ms/step - loss: 0.3815 - accuracy: 0.8280 - val_loss: 0.4463 - val_accuracy: 0.7980\n",
      "Epoch 16/25\n",
      "250/250 [==============================] - 26s 103ms/step - loss: 0.3774 - accuracy: 0.8317 - val_loss: 0.4717 - val_accuracy: 0.7860\n",
      "Epoch 17/25\n",
      "250/250 [==============================] - 26s 103ms/step - loss: 0.3665 - accuracy: 0.8350 - val_loss: 0.4286 - val_accuracy: 0.8145\n",
      "Epoch 18/25\n",
      "250/250 [==============================] - 26s 102ms/step - loss: 0.3610 - accuracy: 0.8346 - val_loss: 0.4372 - val_accuracy: 0.8150\n",
      "Epoch 19/25\n",
      "250/250 [==============================] - 26s 105ms/step - loss: 0.3467 - accuracy: 0.8450 - val_loss: 0.4557 - val_accuracy: 0.7920\n",
      "Epoch 20/25\n",
      "250/250 [==============================] - 26s 105ms/step - loss: 0.3393 - accuracy: 0.8482 - val_loss: 0.4862 - val_accuracy: 0.7855\n",
      "Epoch 21/25\n",
      "250/250 [==============================] - 26s 103ms/step - loss: 0.3279 - accuracy: 0.8551 - val_loss: 0.4409 - val_accuracy: 0.8100\n",
      "Epoch 22/25\n",
      "250/250 [==============================] - 26s 103ms/step - loss: 0.3174 - accuracy: 0.8600 - val_loss: 0.4532 - val_accuracy: 0.8095\n",
      "Epoch 23/25\n",
      "250/250 [==============================] - 26s 103ms/step - loss: 0.3182 - accuracy: 0.8593 - val_loss: 0.4465 - val_accuracy: 0.8170\n",
      "Epoch 24/25\n",
      "250/250 [==============================] - 26s 106ms/step - loss: 0.3102 - accuracy: 0.8652 - val_loss: 0.4677 - val_accuracy: 0.8155\n",
      "Epoch 25/25\n",
      "250/250 [==============================] - 26s 104ms/step - loss: 0.2966 - accuracy: 0.8692 - val_loss: 0.4491 - val_accuracy: 0.8175\n"
     ]
    },
    {
     "data": {
      "text/plain": [
       "<keras.callbacks.History at 0x1f41a23ef40>"
      ]
     },
     "execution_count": 13,
     "metadata": {},
     "output_type": "execute_result"
    }
   ],
   "source": [
    "cnn.fit(x = training_set, validation_data = test_set, epochs = 25)"
   ]
  },
  {
   "cell_type": "markdown",
   "metadata": {
    "colab_type": "text",
    "id": "U3PZasO0006Z"
   },
   "source": [
    "## Part 4 - Making a single prediction"
   ]
  },
  {
   "cell_type": "code",
   "execution_count": 14,
   "metadata": {
    "colab": {},
    "colab_type": "code",
    "id": "gsSiWEJY1BPB"
   },
   "outputs": [],
   "source": [
    "import numpy as np\n",
    "from keras.preprocessing import image\n",
    "test_image = image.load_img('dataset/single_prediction/cat_or_dog_1.jpg', target_size = (64, 64))\n",
    "test_image = image.img_to_array(test_image)\n",
    "test_image = np.expand_dims(test_image, axis = 0)\n",
    "result = cnn.predict(test_image)\n",
    "training_set.class_indices\n",
    "if result[0][0] == 1:\n",
    "  prediction = 'dog'\n",
    "else:\n",
    "  prediction = 'cat'"
   ]
  },
  {
   "cell_type": "code",
   "execution_count": 15,
   "metadata": {
    "colab": {},
    "colab_type": "code",
    "id": "ED9KB3I54c1i"
   },
   "outputs": [
    {
     "name": "stdout",
     "output_type": "stream",
     "text": [
      "dog\n"
     ]
    }
   ],
   "source": [
    "print(prediction)"
   ]
  },
  {
   "cell_type": "code",
   "execution_count": null,
   "metadata": {},
   "outputs": [],
   "source": []
  }
 ],
 "metadata": {
  "colab": {
   "collapsed_sections": [],
   "name": "convolutional_neural_network.ipynb",
   "provenance": [],
   "toc_visible": true
  },
  "kernelspec": {
   "display_name": "Python 3 (ipykernel)",
   "language": "python",
   "name": "python3"
  },
  "language_info": {
   "codemirror_mode": {
    "name": "ipython",
    "version": 3
   },
   "file_extension": ".py",
   "mimetype": "text/x-python",
   "name": "python",
   "nbconvert_exporter": "python",
   "pygments_lexer": "ipython3",
   "version": "3.9.9"
  }
 },
 "nbformat": 4,
 "nbformat_minor": 4
}
